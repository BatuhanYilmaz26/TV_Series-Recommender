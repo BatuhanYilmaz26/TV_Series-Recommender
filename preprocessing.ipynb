{
 "cells": [
  {
   "cell_type": "code",
   "execution_count": 1,
   "metadata": {},
   "outputs": [
    {
     "data": {
      "text/html": [
       "<div>\n",
       "<style scoped>\n",
       "    .dataframe tbody tr th:only-of-type {\n",
       "        vertical-align: middle;\n",
       "    }\n",
       "\n",
       "    .dataframe tbody tr th {\n",
       "        vertical-align: top;\n",
       "    }\n",
       "\n",
       "    .dataframe thead th {\n",
       "        text-align: right;\n",
       "    }\n",
       "</style>\n",
       "<table border=\"1\" class=\"dataframe\">\n",
       "  <thead>\n",
       "    <tr style=\"text-align: right;\">\n",
       "      <th></th>\n",
       "      <th>Title</th>\n",
       "      <th>Year</th>\n",
       "      <th>Runtime_minutes</th>\n",
       "      <th>Genres</th>\n",
       "      <th>Rating</th>\n",
       "      <th>Votes</th>\n",
       "      <th>IMDB_Link</th>\n",
       "    </tr>\n",
       "  </thead>\n",
       "  <tbody>\n",
       "    <tr>\n",
       "      <th>0</th>\n",
       "      <td>Sugarland</td>\n",
       "      <td>(2019– )</td>\n",
       "      <td>NaN</td>\n",
       "      <td>Animation, Comedy, Family</td>\n",
       "      <td>9.9</td>\n",
       "      <td>33,276</td>\n",
       "      <td>https://www.imdb.com/title/tt4057372/</td>\n",
       "    </tr>\n",
       "    <tr>\n",
       "      <th>1</th>\n",
       "      <td>The Chosen</td>\n",
       "      <td>(2017– )</td>\n",
       "      <td>54.0</td>\n",
       "      <td>Drama, History</td>\n",
       "      <td>9.5</td>\n",
       "      <td>23,988</td>\n",
       "      <td>https://www.imdb.com/title/tt9471404/</td>\n",
       "    </tr>\n",
       "    <tr>\n",
       "      <th>2</th>\n",
       "      <td>Planet Earth II</td>\n",
       "      <td>(2016)</td>\n",
       "      <td>298.0</td>\n",
       "      <td>Documentary</td>\n",
       "      <td>9.5</td>\n",
       "      <td>110,279</td>\n",
       "      <td>https://www.imdb.com/title/tt5491994/</td>\n",
       "    </tr>\n",
       "    <tr>\n",
       "      <th>3</th>\n",
       "      <td>Chernobyl</td>\n",
       "      <td>(2019)</td>\n",
       "      <td>330.0</td>\n",
       "      <td>Drama, History, Thriller</td>\n",
       "      <td>9.4</td>\n",
       "      <td>653,836</td>\n",
       "      <td>https://www.imdb.com/title/tt7366338/</td>\n",
       "    </tr>\n",
       "    <tr>\n",
       "      <th>4</th>\n",
       "      <td>The Filthy Frank Show</td>\n",
       "      <td>(2011–2017)</td>\n",
       "      <td>12.0</td>\n",
       "      <td>Comedy, Fantasy, Music</td>\n",
       "      <td>9.4</td>\n",
       "      <td>32,908</td>\n",
       "      <td>https://www.imdb.com/title/tt4202274/</td>\n",
       "    </tr>\n",
       "  </tbody>\n",
       "</table>\n",
       "</div>"
      ],
      "text/plain": [
       "                   Title         Year  Runtime_minutes  \\\n",
       "0              Sugarland     (2019– )              NaN   \n",
       "1             The Chosen     (2017– )             54.0   \n",
       "2        Planet Earth II       (2016)            298.0   \n",
       "3              Chernobyl       (2019)            330.0   \n",
       "4  The Filthy Frank Show  (2011–2017)             12.0   \n",
       "\n",
       "                                  Genres  Rating    Votes  \\\n",
       "0  Animation, Comedy, Family                 9.9   33,276   \n",
       "1             Drama, History                 9.5   23,988   \n",
       "2                Documentary                 9.5  110,279   \n",
       "3   Drama, History, Thriller                 9.4  653,836   \n",
       "4     Comedy, Fantasy, Music                 9.4   32,908   \n",
       "\n",
       "                               IMDB_Link  \n",
       "0  https://www.imdb.com/title/tt4057372/  \n",
       "1  https://www.imdb.com/title/tt9471404/  \n",
       "2  https://www.imdb.com/title/tt5491994/  \n",
       "3  https://www.imdb.com/title/tt7366338/  \n",
       "4  https://www.imdb.com/title/tt4202274/  "
      ]
     },
     "execution_count": 1,
     "metadata": {},
     "output_type": "execute_result"
    }
   ],
   "source": [
    "import pandas as pd\n",
    "\n",
    "# Load dataset as a pandas dataframe\n",
    "data = pd.read_csv(\"imdb_tv_series.csv\")\n",
    "data.head()"
   ]
  },
  {
   "cell_type": "code",
   "execution_count": 2,
   "metadata": {},
   "outputs": [
    {
     "data": {
      "text/plain": [
       "Index(['Title', 'Year', 'Runtime_minutes', 'Genres', 'Rating', 'Votes',\n",
       "       'IMDB_Link'],\n",
       "      dtype='object')"
      ]
     },
     "execution_count": 2,
     "metadata": {},
     "output_type": "execute_result"
    }
   ],
   "source": [
    "data.columns"
   ]
  },
  {
   "cell_type": "code",
   "execution_count": 3,
   "metadata": {},
   "outputs": [
    {
     "data": {
      "text/html": [
       "<div>\n",
       "<style scoped>\n",
       "    .dataframe tbody tr th:only-of-type {\n",
       "        vertical-align: middle;\n",
       "    }\n",
       "\n",
       "    .dataframe tbody tr th {\n",
       "        vertical-align: top;\n",
       "    }\n",
       "\n",
       "    .dataframe thead th {\n",
       "        text-align: right;\n",
       "    }\n",
       "</style>\n",
       "<table border=\"1\" class=\"dataframe\">\n",
       "  <thead>\n",
       "    <tr style=\"text-align: right;\">\n",
       "      <th></th>\n",
       "      <th>Genres</th>\n",
       "      <th>Title</th>\n",
       "      <th>Rating</th>\n",
       "      <th>IMDB_Link</th>\n",
       "    </tr>\n",
       "  </thead>\n",
       "  <tbody>\n",
       "    <tr>\n",
       "      <th>0</th>\n",
       "      <td>Animation, Comedy, Family</td>\n",
       "      <td>Sugarland</td>\n",
       "      <td>9.9</td>\n",
       "      <td>https://www.imdb.com/title/tt4057372/</td>\n",
       "    </tr>\n",
       "    <tr>\n",
       "      <th>1</th>\n",
       "      <td>Drama, History</td>\n",
       "      <td>The Chosen</td>\n",
       "      <td>9.5</td>\n",
       "      <td>https://www.imdb.com/title/tt9471404/</td>\n",
       "    </tr>\n",
       "    <tr>\n",
       "      <th>2</th>\n",
       "      <td>Documentary</td>\n",
       "      <td>Planet Earth II</td>\n",
       "      <td>9.5</td>\n",
       "      <td>https://www.imdb.com/title/tt5491994/</td>\n",
       "    </tr>\n",
       "    <tr>\n",
       "      <th>3</th>\n",
       "      <td>Drama, History, Thriller</td>\n",
       "      <td>Chernobyl</td>\n",
       "      <td>9.4</td>\n",
       "      <td>https://www.imdb.com/title/tt7366338/</td>\n",
       "    </tr>\n",
       "    <tr>\n",
       "      <th>4</th>\n",
       "      <td>Comedy, Fantasy, Music</td>\n",
       "      <td>The Filthy Frank Show</td>\n",
       "      <td>9.4</td>\n",
       "      <td>https://www.imdb.com/title/tt4202274/</td>\n",
       "    </tr>\n",
       "  </tbody>\n",
       "</table>\n",
       "</div>"
      ],
      "text/plain": [
       "                                  Genres                  Title  Rating  \\\n",
       "0  Animation, Comedy, Family                          Sugarland     9.9   \n",
       "1             Drama, History                         The Chosen     9.5   \n",
       "2                Documentary                    Planet Earth II     9.5   \n",
       "3   Drama, History, Thriller                          Chernobyl     9.4   \n",
       "4     Comedy, Fantasy, Music              The Filthy Frank Show     9.4   \n",
       "\n",
       "                               IMDB_Link  \n",
       "0  https://www.imdb.com/title/tt4057372/  \n",
       "1  https://www.imdb.com/title/tt9471404/  \n",
       "2  https://www.imdb.com/title/tt5491994/  \n",
       "3  https://www.imdb.com/title/tt7366338/  \n",
       "4  https://www.imdb.com/title/tt4202274/  "
      ]
     },
     "execution_count": 3,
     "metadata": {},
     "output_type": "execute_result"
    }
   ],
   "source": [
    "# Create a new dataframe with the relevant columns\n",
    "df = data[[\"Genres\", \"Title\", \"Rating\", \"IMDB_Link\"]].copy()\n",
    "df.head()"
   ]
  },
  {
   "cell_type": "code",
   "execution_count": 4,
   "metadata": {},
   "outputs": [
    {
     "data": {
      "text/plain": [
       "['Action',\n",
       " 'Adventure',\n",
       " 'Animation',\n",
       " 'Biography',\n",
       " 'Comedy',\n",
       " 'Crime',\n",
       " 'Documentary',\n",
       " 'Drama',\n",
       " 'Family',\n",
       " 'Fantasy',\n",
       " 'Game-Show',\n",
       " 'History',\n",
       " 'Horror',\n",
       " 'Music',\n",
       " 'Musical',\n",
       " 'Mystery',\n",
       " 'News',\n",
       " 'Reality-TV',\n",
       " 'Romance',\n",
       " 'Sci-Fi',\n",
       " 'Short',\n",
       " 'Sport',\n",
       " 'Talk-Show',\n",
       " 'Thriller',\n",
       " 'War',\n",
       " 'Western']"
      ]
     },
     "execution_count": 4,
     "metadata": {},
     "output_type": "execute_result"
    }
   ],
   "source": [
    "# sort genres alphabetically\n",
    "all_genres = df[\"Genres\"].str.split(\",\").tolist()\n",
    "genres = sorted(list(set([item for sublist in all_genres for item in sublist])))\n",
    "genres = [g.strip() for g in genres]\n",
    "# remove duplicate genres\n",
    "genres = sorted(list(set(dict.fromkeys(genres))))\n",
    "genres"
   ]
  },
  {
   "cell_type": "code",
   "execution_count": 5,
   "metadata": {},
   "outputs": [
    {
     "data": {
      "text/plain": [
       "26"
      ]
     },
     "execution_count": 5,
     "metadata": {},
     "output_type": "execute_result"
    }
   ],
   "source": [
    "# Number of genres\n",
    "len(genres)"
   ]
  },
  {
   "cell_type": "code",
   "execution_count": 6,
   "metadata": {},
   "outputs": [
    {
     "data": {
      "text/html": [
       "<div>\n",
       "<style scoped>\n",
       "    .dataframe tbody tr th:only-of-type {\n",
       "        vertical-align: middle;\n",
       "    }\n",
       "\n",
       "    .dataframe tbody tr th {\n",
       "        vertical-align: top;\n",
       "    }\n",
       "\n",
       "    .dataframe thead th {\n",
       "        text-align: right;\n",
       "    }\n",
       "</style>\n",
       "<table border=\"1\" class=\"dataframe\">\n",
       "  <thead>\n",
       "    <tr style=\"text-align: right;\">\n",
       "      <th></th>\n",
       "      <th>Genres</th>\n",
       "      <th>Title</th>\n",
       "      <th>Rating</th>\n",
       "      <th>IMDB_Link</th>\n",
       "    </tr>\n",
       "  </thead>\n",
       "  <tbody>\n",
       "    <tr>\n",
       "      <th>0</th>\n",
       "      <td>Animation, Comedy, Family</td>\n",
       "      <td>Sugarland</td>\n",
       "      <td>9.9</td>\n",
       "      <td>https://www.imdb.com/title/tt4057372/</td>\n",
       "    </tr>\n",
       "    <tr>\n",
       "      <th>1</th>\n",
       "      <td>Drama, History</td>\n",
       "      <td>The Chosen</td>\n",
       "      <td>9.5</td>\n",
       "      <td>https://www.imdb.com/title/tt9471404/</td>\n",
       "    </tr>\n",
       "    <tr>\n",
       "      <th>2</th>\n",
       "      <td>Documentary</td>\n",
       "      <td>Planet Earth II</td>\n",
       "      <td>9.5</td>\n",
       "      <td>https://www.imdb.com/title/tt5491994/</td>\n",
       "    </tr>\n",
       "    <tr>\n",
       "      <th>3</th>\n",
       "      <td>Drama, History, Thriller</td>\n",
       "      <td>Chernobyl</td>\n",
       "      <td>9.4</td>\n",
       "      <td>https://www.imdb.com/title/tt7366338/</td>\n",
       "    </tr>\n",
       "    <tr>\n",
       "      <th>4</th>\n",
       "      <td>Comedy, Fantasy, Music</td>\n",
       "      <td>The Filthy Frank Show</td>\n",
       "      <td>9.4</td>\n",
       "      <td>https://www.imdb.com/title/tt4202274/</td>\n",
       "    </tr>\n",
       "  </tbody>\n",
       "</table>\n",
       "</div>"
      ],
      "text/plain": [
       "                                  Genres                  Title  Rating  \\\n",
       "0  Animation, Comedy, Family                          Sugarland     9.9   \n",
       "1             Drama, History                         The Chosen     9.5   \n",
       "2                Documentary                    Planet Earth II     9.5   \n",
       "3   Drama, History, Thriller                          Chernobyl     9.4   \n",
       "4     Comedy, Fantasy, Music              The Filthy Frank Show     9.4   \n",
       "\n",
       "                               IMDB_Link  \n",
       "0  https://www.imdb.com/title/tt4057372/  \n",
       "1  https://www.imdb.com/title/tt9471404/  \n",
       "2  https://www.imdb.com/title/tt5491994/  \n",
       "3  https://www.imdb.com/title/tt7366338/  \n",
       "4  https://www.imdb.com/title/tt4202274/  "
      ]
     },
     "execution_count": 6,
     "metadata": {},
     "output_type": "execute_result"
    }
   ],
   "source": [
    "df.head()"
   ]
  },
  {
   "cell_type": "code",
   "execution_count": 7,
   "metadata": {},
   "outputs": [],
   "source": [
    "# Initialize lists to store the tv data and the titles\n",
    "final_data = []\n",
    "tv_titles = []"
   ]
  },
  {
   "cell_type": "code",
   "execution_count": 8,
   "metadata": {},
   "outputs": [
    {
     "name": "stdout",
     "output_type": "stream",
     "text": [
      "                                     Genres                  Title  Rating  \\\n",
      "0     Animation, Comedy, Family                          Sugarland     9.9   \n",
      "1                Drama, History                         The Chosen     9.5   \n",
      "2                   Documentary                    Planet Earth II     9.5   \n",
      "3      Drama, History, Thriller                          Chernobyl     9.4   \n",
      "4        Comedy, Fantasy, Music              The Filthy Frank Show     9.4   \n",
      "...                                     ...                    ...     ...   \n",
      "1414   Action, Adventure, Drama                    Y: The Last Man     6.0   \n",
      "1415   Action, Adventure, Crime                        Magnum P.I.     6.0   \n",
      "1416      Comedy, Drama, Family                      Austin & Ally     6.0   \n",
      "1417      Crime, Drama, Fantasy                     The Irregulars     6.0   \n",
      "1418            Comedy, Romance                               Joey     6.0   \n",
      "\n",
      "                                   IMDB_Link  \n",
      "0      https://www.imdb.com/title/tt4057372/  \n",
      "1      https://www.imdb.com/title/tt9471404/  \n",
      "2      https://www.imdb.com/title/tt5491994/  \n",
      "3      https://www.imdb.com/title/tt7366338/  \n",
      "4      https://www.imdb.com/title/tt4202274/  \n",
      "...                                      ...  \n",
      "1414   https://www.imdb.com/title/tt8042500/  \n",
      "1415   https://www.imdb.com/title/tt7942796/  \n",
      "1416   https://www.imdb.com/title/tt1830491/  \n",
      "1417  https://www.imdb.com/title/tt10893694/  \n",
      "1418   https://www.imdb.com/title/tt0375355/  \n",
      "\n",
      "[1419 rows x 4 columns]\n"
     ]
    }
   ],
   "source": [
    "print(df)"
   ]
  },
  {
   "cell_type": "code",
   "execution_count": 9,
   "metadata": {},
   "outputs": [],
   "source": [
    "for i in df.index:\n",
    "    # Append the tv_title and the index of the tv show to the tv_titles list\n",
    "    tv_titles.append((df.loc[i][\"Title\"].strip(), i, df.loc[i][\"IMDB_Link\"].strip()))\n",
    "    # split by comma and One hot encode the Genres column, 1 if the genre is present in the tv show, 0 otherwise\n",
    "    genres_list = df.loc[i][\"Genres\"].split(\",\")\n",
    "    genres_list = [g.strip() for g in genres_list]\n",
    "    genres_list = [1 if g in genres_list else 0 for g in genres]\n",
    "    # Add IMDB scores to the list\n",
    "    genres_list.append(df.loc[i][\"Rating\"])\n",
    "    final_data.append(genres_list)"
   ]
  },
  {
   "cell_type": "code",
   "execution_count": 12,
   "metadata": {},
   "outputs": [
    {
     "name": "stdout",
     "output_type": "stream",
     "text": [
      "('Sugarland', 0, 'https://www.imdb.com/title/tt4057372/')\n"
     ]
    }
   ],
   "source": [
    "# Let's see what the tv titles look like\n",
    "print(tv_titles[0])"
   ]
  },
  {
   "cell_type": "code",
   "execution_count": 13,
   "metadata": {},
   "outputs": [
    {
     "name": "stdout",
     "output_type": "stream",
     "text": [
      "[0, 0, 1, 0, 1, 0, 0, 0, 1, 0, 0, 0, 0, 0, 0, 0, 0, 0, 0, 0, 0, 0, 0, 0, 0, 0, 9.9]\n"
     ]
    }
   ],
   "source": [
    "# Let's see what the final data looks like\n",
    "print(final_data[0])\n",
    "# 0's indicate that the tv show is not in that genre, 1's indicate that the tv show is in that genre, and the last column is the IMDb score."
   ]
  },
  {
   "cell_type": "code",
   "execution_count": 14,
   "metadata": {},
   "outputs": [],
   "source": [
    "# Now let's dump the data to json files\n",
    "import json\n",
    "\n",
    "data_dump = \"./Data/tv_data.json\"\n",
    "titles_dump = \"./Data/tv_titles.json\"\n",
    "\n",
    "with open(data_dump, \"w+\", encoding=\"utf-8\") as f:\n",
    "    json.dump(final_data, f)\n",
    "with open(titles_dump, \"w+\", encoding=\"utf-8\") as f:\n",
    "    json.dump(tv_titles, f)"
   ]
  }
 ],
 "metadata": {
  "interpreter": {
   "hash": "483abfc7fdcd927bfa336910f494643cce94b3dfa36bcded073270b8df64edb3"
  },
  "kernelspec": {
   "display_name": "Python 3.9.6 64-bit",
   "language": "python",
   "name": "python3"
  },
  "language_info": {
   "codemirror_mode": {
    "name": "ipython",
    "version": 3
   },
   "file_extension": ".py",
   "mimetype": "text/x-python",
   "name": "python",
   "nbconvert_exporter": "python",
   "pygments_lexer": "ipython3",
   "version": "3.9.6"
  },
  "orig_nbformat": 4
 },
 "nbformat": 4,
 "nbformat_minor": 2
}
